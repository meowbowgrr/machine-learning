{
 "cells": [
  {
   "cell_type": "code",
   "execution_count": 1,
   "metadata": {
    "collapsed": true
   },
   "outputs": [],
   "source": [
    "import os\n",
    "os.environ['TF_CPP_MIN_LOG_LEVEL'] = '0'\n",
    "os.environ['TF_CPP_MIN_VLOG_LEVEL'] = '3'\n",
    "import tensorflow as tf\n",
    "import numpy as np\n",
    "import matplotlib.pyplot as plt\n",
    "from tensorflow.examples.tutorials.mnist import input_data\n",
    "%matplotlib inline"
   ]
  },
  {
   "cell_type": "code",
   "execution_count": 2,
   "metadata": {
    "collapsed": false
   },
   "outputs": [
    {
     "name": "stdout",
     "output_type": "stream",
     "text": [
      "Extracting data/fashion\\train-images-idx3-ubyte.gz\n",
      "Extracting data/fashion\\train-labels-idx1-ubyte.gz\n",
      "Extracting data/fashion\\t10k-images-idx3-ubyte.gz\n",
      "Extracting data/fashion\\t10k-labels-idx1-ubyte.gz\n"
     ]
    }
   ],
   "source": [
    "data_set = input_data.read_data_sets('data/fashion', one_hot=True)"
   ]
  },
  {
   "cell_type": "code",
   "execution_count": 3,
   "metadata": {
    "collapsed": false
   },
   "outputs": [
    {
     "name": "stdout",
     "output_type": "stream",
     "text": [
      "size of train labels =  (55000, 10)\n",
      "size of train data   =  (55000, 784)\n",
      "size of test labels  =  (10000, 10)\n",
      "size of test data    =  (10000, 784)\n"
     ]
    }
   ],
   "source": [
    "print('size of train labels = ', data_set.train.labels.shape)\n",
    "print('size of train data   = ', data_set.train.images.shape)\n",
    "print('size of test labels  = ', data_set.test.labels.shape)\n",
    "print('size of test data    = ', data_set.test.images.shape)\n"
   ]
  },
  {
   "cell_type": "code",
   "execution_count": 4,
   "metadata": {
    "collapsed": true
   },
   "outputs": [],
   "source": [
    "label_dict= {\n",
    " 0: '0',\n",
    " 1: '1',\n",
    " 2: '2',\n",
    " 3: '3',\n",
    " 4: '4',\n",
    " 5: '5',\n",
    " 6: '6',\n",
    " 7: '7',\n",
    " 8: '8',\n",
    " 9: '9',\n",
    "}"
   ]
  },
  {
   "cell_type": "code",
   "execution_count": 5,
   "metadata": {
    "collapsed": false,
    "scrolled": false
   },
   "outputs": [
    {
     "data": {
      "image/png": "[encoded data removed]",
      "text/plain": [
       "<matplotlib.figure.Figure at 0x18fde60d390>"
      ]
     },
     "metadata": {},
     "output_type": "display_data"
    }
   ],
   "source": [
    "plt.figure()\n",
    "plt.subplot(221)\n",
    "img1 = np.reshape(data_set.train.images[0],[28,28])\n",
    "lab1 = label_dict[np.argmax(data_set.train.labels[0])]\n",
    "plt.imshow(img1, cmap='gray')\n",
    "plt.title(lab1)\n",
    "plt.subplot(222)\n",
    "img2 = np.reshape(data_set.train.images[20],[28,28])\n",
    "lab2 = label_dict[np.argmax(data_set.train.labels[20])]\n",
    "plt.imshow(img2, cmap='gray')\n",
    "plt.title(lab2)\n",
    "plt.subplot(223)\n",
    "img3 = np.reshape(data_set.test.images[0],[28,28])\n",
    "lab3 = label_dict[np.argmax(data_set.test.labels[0])]\n",
    "plt.imshow(img3, cmap='gray')\n",
    "plt.title(lab3)\n",
    "plt.subplot(224)\n",
    "img4 = np.reshape(data_set.test.images[1],[28,28])\n",
    "lab4 = label_dict[np.argmax(data_set.test.labels[1])]\n",
    "plt.imshow(img4, cmap='gray')\n",
    "plt.title(lab4)\n",
    "plt.show()"
   ]
  },
  {
   "cell_type": "code",
   "execution_count": 6,
   "metadata": {
    "collapsed": false
   },
   "outputs": [
    {
     "name": "stdout",
     "output_type": "stream",
     "text": [
      "(55000, 784)\n",
      "(55000, 28, 28, 1)\n"
     ]
    }
   ],
   "source": [
    "print(data_set.train.images.shape)\n",
    "print(data_set.train.images.reshape(-1, 28, 28, 1).shape)"
   ]
  },
  {
   "cell_type": "code",
   "execution_count": 7,
   "metadata": {
    "collapsed": true
   },
   "outputs": [],
   "source": [
    "train_x = data_set.train.images.reshape(-1,28,28,1)\n",
    "test_x = data_set.test.images.reshape(-1,28,28,1)"
   ]
  },
  {
   "cell_type": "code",
   "execution_count": 8,
   "metadata": {
    "collapsed": false
   },
   "outputs": [],
   "source": [
    "train_y = data_set.train.labels\n",
    "test_y = data_set.test.labels"
   ]
  },
  {
   "cell_type": "code",
   "execution_count": 9,
   "metadata": {
    "collapsed": false
   },
   "outputs": [
    {
     "data": {
      "text/plain": [
       "((55000, 28, 28, 1), (10000, 28, 28, 1), (55000, 10), (10000, 10))"
      ]
     },
     "execution_count": 9,
     "metadata": {},
     "output_type": "execute_result"
    }
   ],
   "source": [
    "train_x.shape, test_x.shape, train_y.shape, test_y.shape"
   ]
  },
  {
   "cell_type": "code",
   "execution_count": 10,
   "metadata": {
    "collapsed": true
   },
   "outputs": [],
   "source": [
    "train_iter = 150\n",
    "learn_rate = .001\n",
    "batch_size = 1"
   ]
  },
  {
   "cell_type": "code",
   "execution_count": 11,
   "metadata": {
    "collapsed": true
   },
   "outputs": [],
   "source": [
    "num_classes = train_y.shape[1]\n",
    "img_dim = list(train_x.shape[1:])"
   ]
  },
  {
   "cell_type": "code",
   "execution_count": 12,
   "metadata": {
    "collapsed": false
   },
   "outputs": [],
   "source": [
    "x = tf.placeholder(tf.float32,[None]+img_dim)\n",
    "y = tf.placeholder(tf.float32,[None,num_classes])"
   ]
  },
  {
   "cell_type": "code",
   "execution_count": 13,
   "metadata": {
    "collapsed": true
   },
   "outputs": [],
   "source": [
    "def conv_2d(image, kernel, bias, stride):\n",
    "    x = tf.nn.conv2d(image,kernel,strides=[1,stride,stride,1],padding='SAME')\n",
    "    x = tf.nn.bias_add(x,bias)\n",
    "    x = tf.nn.relu(x)\n",
    "    return x"
   ]
  },
  {
   "cell_type": "code",
   "execution_count": 14,
   "metadata": {
    "collapsed": true
   },
   "outputs": [],
   "source": [
    "def max_pool2d(x,pool_size,stride):\n",
    "    x = tf.nn.max_pool(x,ksize=[1,pool_size,pool_size,1],strides=[1,stride,stride,1],padding='SAME')\n",
    "    return x"
   ]
  },
  {
   "cell_type": "code",
   "execution_count": 15,
   "metadata": {
    "collapsed": false
   },
   "outputs": [],
   "source": [
    "weights = {'conv1': tf.get_variable('wc1',shape=(3,3,1,32),initializer=tf.contrib.layers.xavier_initializer()),\n",
    "           'conv2': tf.get_variable('wc2',shape=(3,3,32,68),initializer=tf.contrib.layers.xavier_initializer()),\n",
    "           'conv3': tf.get_variable('wc3',shape=(3,3,68,128),initializer=tf.contrib.layers.xavier_initializer()),\n",
    "           'dense': tf.get_variable('wd1',shape=(4*4*128,128),initializer=tf.contrib.layers.xavier_initializer()),\n",
    "           'out': tf.get_variable('wo',shape=(128,10),initializer=tf.contrib.layers.xavier_initializer())}"
   ]
  },
  {
   "cell_type": "code",
   "execution_count": 16,
   "metadata": {
    "collapsed": false
   },
   "outputs": [],
   "source": [
    "bias = {'conv1': tf.get_variable('bc1',shape=(32),initializer=tf.contrib.layers.xavier_initializer()),\n",
    "        'conv2': tf.get_variable('bc2',shape=(68),initializer=tf.contrib.layers.xavier_initializer()),\n",
    "        'conv3': tf.get_variable('bc3',shape=(128),initializer=tf.contrib.layers.xavier_initializer()),\n",
    "        'dense': tf.get_variable('bd1',shape=(128),initializer=tf.contrib.layers.xavier_initializer()),\n",
    "        'out': tf.get_variable('b0',shape=(10),initializer=tf.contrib.layers.xavier_initializer())}"
   ]
  },
  {
   "cell_type": "code",
   "execution_count": 17,
   "metadata": {
    "collapsed": false
   },
   "outputs": [],
   "source": [
    "def network(image, weights, bias):\n",
    "    tf.logging.error(\"helloooo\")\n",
    "    \n",
    "    conv1 = conv_2d(image,weights['conv1'],bias['conv1'],1)\n",
    "    conv1 = max_pool2d(conv1,2,2)\n",
    "\n",
    "    conv2 = conv_2d(conv1,weights['conv2'],bias['conv2'],1)\n",
    "    conv2 = max_pool2d(conv2,2,2)\n",
    "\n",
    "    conv3 = conv_2d(conv2,weights['conv3'],bias['conv3'],1)\n",
    "    conv3 = max_pool2d(conv3,2,2)\n",
    "    \n",
    "\n",
    "    fc = tf.reshape(conv3, [-1, weights['dense'].shape[0]])\n",
    "\n",
    "    fc = tf.add(tf.matmul(fc,weights['dense']),bias['dense'])\n",
    "    fc = tf.nn.relu(fc)\n",
    "\n",
    "    out = tf.add(tf.matmul(fc,weights['out']),bias['out'])\n",
    "    return out"
   ]
  },
  {
   "cell_type": "code",
   "execution_count": 18,
   "metadata": {
    "collapsed": false
   },
   "outputs": [],
   "source": [
    "prediction = network(x,weights,bias)\n",
    "cost = tf.reduce_mean(tf.nn.softmax_cross_entropy_with_logits(logits=prediction,labels=y))\n",
    "optimizer = tf.train.AdamOptimizer(learning_rate=learn_rate).minimize(cost)"
   ]
  },
  {
   "cell_type": "code",
   "execution_count": 19,
   "metadata": {
    "collapsed": false
   },
   "outputs": [],
   "source": [
    "correct_prediction = tf.equal(tf.arg_max(prediction, 1), tf.arg_max(y, 1))\n",
    "accuracy = tf.reduce_mean(tf.cast(correct_prediction,tf.float32))"
   ]
  },
  {
   "cell_type": "code",
   "execution_count": null,
   "metadata": {
    "collapsed": true
   },
   "outputs": [],
   "source": [
    "init_gvars = tf.global_variables_initializer()"
   ]
  },
  {
   "cell_type": "code",
   "execution_count": null,
   "metadata": {
    "collapsed": false
   },
   "outputs": [],
   "source": [
    "with tf.Session() as sess:\n",
    "    sess.run(init_gvars)\n",
    "    test_cost_list = []\n",
    "    test_accr_list = []\n",
    "    train_cost_list = []\n",
    "    train_accr_list = []\n",
    "    for i in range(train_iter):\n",
    "        for batch in range(len(train_x)//batch_size):\n",
    "            batch_x = train_x[batch*batch_size:min((batch+1)*batch_size, len(train_x))]\n",
    "            batch_y = train_y[batch*batch_size:min((batch+1)*batch_size, len(train_y))]\n",
    "            o = sess.run(optimizer,feed_dict={x:batch_x,y:batch_y})\n",
    "            [batch_cost, batch_accuracy] = sess.run([cost, accuracy],feed_dict={x:batch_x,y:batch_y})\n",
    "            print(\"for iteration {}: batch_cost={:.6f}, batch_accuracy= {:.5f}\".format(i,batch_cost,batch_accuracy))\n",
    "        [test_cost, test_accuracy] = sess.run([cost, accuracy],feed_dict={x:test_x,y:test_y})\n",
    "        print(\"for iteration {}: test_cost={:.6f}, test_accuracy= {:.5f}\".format(i,test_cost,test_accuracy))\n",
    "        test_cost_list.append(test_cost)\n",
    "        test_accr_list.append(test_accuracy)\n",
    "        train_cost_list.append(batch_cost)\n",
    "        train_accr_list.append(batch_accuracy)      \n",
    "        \n",
    "              "
   ]
  }
 ],
 "metadata": {
  "anaconda-cloud": {},
  "kernelspec": {
   "display_name": "Python [Root]",
   "language": "python",
   "name": "Python [Root]"
  },
  "language_info": {
   "codemirror_mode": {
    "name": "ipython",
    "version": 3
   },
   "file_extension": ".py",
   "mimetype": "text/x-python",
   "name": "python",
   "nbconvert_exporter": "python",
   "pygments_lexer": "ipython3",
   "version": "3.5.4"
  }
 },
 "nbformat": 4,
 "nbformat_minor": 0
}
